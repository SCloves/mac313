{
 "cells": [
  {
   "cell_type": "markdown",
   "metadata": {},
   "source": [
    "<img src='logo.png'>"
   ]
  },
  {
   "cell_type": "markdown",
   "metadata": {},
   "source": [
    "[Clique aqui](https://wiki.postgresql.org/wiki/Introdu%C3%A7%C3%A3o_e_Hist%C3%B3rico) para conhecer a história do PostgreSQL."
   ]
  },
  {
   "cell_type": "markdown",
   "metadata": {},
   "source": [
    "# Instalação no Ubuntu"
   ]
  },
  {
   "cell_type": "markdown",
   "metadata": {},
   "source": [
    "Abra o terminal de comandos e atualize seu sistema:\n",
    "\n",
    "```\n",
    "sudo apt-get update\n",
    "```"
   ]
  },
  {
   "cell_type": "markdown",
   "metadata": {},
   "source": [
    "Para instalar execute o comando:\n",
    "\n",
    "```\n",
    "sudo apt-get install postgresql postgresql-contrib\n",
    "```"
   ]
  },
  {
   "cell_type": "markdown",
   "metadata": {},
   "source": [
    "# O usuário postgres"
   ]
  },
  {
   "cell_type": "markdown",
   "metadata": {},
   "source": [
    "O procedimento de instalação criou um usuário chamado postgres que é associado com o role padrão do Postgres. Para usar o Postgres, podemos fazer login nessa conta de usuário.\n",
    "\n",
    "Entre no SGBD Postgresql usando o usando o usuário postgres digitando:\n",
    "\n",
    "```\n",
    "sudo -i -u postgres\n",
    "```\n",
    "\n",
    "Agora você pode acessar o prompt do Postgresql digitando:\n",
    "\n",
    "``` \n",
    "psql \n",
    "```\n",
    "\n",
    "Poderíamos ter ido direto para o promp de comando do Postgresql digitando:\n",
    "\n",
    "```\n",
    "sudo -u postgres psql\n",
    "```\n",
    "\n",
    "Para sair digite ```\\q```."
   ]
  },
  {
   "cell_type": "markdown",
   "metadata": {},
   "source": [
    "# Roles"
   ]
  },
  {
   "cell_type": "markdown",
   "metadata": {},
   "source": [
    "Por padrão, o Postgres utiliza um conceito chamado \"roles\" para tratar da autenticação e da autorização. O Postgres não distingue entre usuários e grupos e, em vez disso, prefere o termo mais flexível \"role\". De modo abstrato, uma role pode se comportar como um usuário, como um grupo ou ter ambos comportamentos ao mesmo tempo. Fica claro que o conceito de role está relacionado com a definição de permissões, privilégios e garantias de acesso aos objetos do banco e aos dados. \n",
    "\n",
    "Para entender melhor o conceito de *role* [clique aqui](https://www.vivaolinux.com.br/artigo/PostgreSQL-94-O-conceito-de-Role).\n",
    "\n",
    "Usamos o usuário padrão postgres criado na hora da instalação para acessar o Postgresql. Esse usuário tem uma role com todas as permissões administrativas. Normalmente, pensamos nele como um superusuário administrativo. \n",
    "\n",
    "É bom criar outras roles com poderes limitados. Lembre-se que a role postgres possui todos os poderes administrativos, incluindo aqueles que podem destruir o ambiente dos bancos de dados. \n",
    "\n",
    "Para obter uma listagem de todas as roles, utilize a ferramenta psql e dê o seguinte comando SQL para consultar a tabela \"pg_roles\": \n",
    "\n",
    "\n",
    "``` sql\n",
    "SELECT rolname FROM pg_roles;\n",
    "```\n",
    "\n",
    "Para obter uma listagem dos privilégios de cada role, use o meta-comando da ferramenta psql com \\dg, ou seu equivalente com \\du."
   ]
  },
  {
   "cell_type": "markdown",
   "metadata": {},
   "source": [
    "# Criando Roles"
   ]
  },
  {
   "cell_type": "markdown",
   "metadata": {},
   "source": [
    "Se você estiver conectado com a conta postgres, você pode criar um novo usuário(role) digitando:\n",
    "\n",
    "```sql \n",
    "CREATE ROLE nome [ [ WITH ] opção [ ... ] ] \n",
    "```\n",
    "\n",
    "Onde opção, pode ser:\n",
    "\n",
    "<img src='opcoes.png'>\n",
    "\n",
    "\n",
    "Para saber como usar essas opções na criação de grupos ou usuários leia [isso](http://www.postgresqltutorial.com/postgresql-roles/).\n"
   ]
  },
  {
   "cell_type": "markdown",
   "metadata": {},
   "source": [
    "Vou criar um usuário(role) para mim como sendo administrador do nosso banco de dados de nosso grupo:\n",
    "\n",
    "```sql\n",
    "CREATE ROLE cloves_admin WITH LOGIN CREATEDB REPLICATION PASSWORD '*******' ;\n",
    "```"
   ]
  },
  {
   "cell_type": "markdown",
   "metadata": {},
   "source": [
    "Para o usuário de vocês, eu usei os seguintes comandos:\n",
    "\n",
    "```sql\n",
    "CREATE ROLE caio WITH LOGIN PASSWORD '******' INHERIT VALID UNTIL '2017-12-10';\n",
    "```\n",
    "\n",
    "```sql\n",
    "CREATE ROLE fabiano WITH LOGIN PASSWORD '******' INHERIT VALID UNTIL '2017-12-10';\n",
    "```\n",
    "\n",
    "```sql\n",
    "CREATE ROLE rodrigo WITH LOGIN PASSWORD '******' INHERIT VALID UNTIL '2017-12-10';\n",
    "```\n",
    "\n",
    "Caso quisesse alterar a role do caio por exemplo, para poder criar um database:\n",
    "\n",
    "```sql\n",
    "ALTER ROLE caio WITH CREATEDB;\n",
    "```"
   ]
  },
  {
   "cell_type": "markdown",
   "metadata": {},
   "source": [
    "# Criando um banco de dados"
   ]
  },
  {
   "cell_type": "markdown",
   "metadata": {},
   "source": [
    "Para criar um banco de dados podemos executar os seguintes comandos:\n",
    "``` sql\n",
    "CREATE DATABASE name\n",
    "    [ [ WITH ] [ OWNER [=] user_name ]\n",
    "           [ TEMPLATE [=] template ]\n",
    "           [ ENCODING [=] encoding ]\n",
    "           [ LC_COLLATE [=] lc_collate ]\n",
    "           [ LC_CTYPE [=] lc_ctype ]\n",
    "           [ TABLESPACE [=] tablespace ]\n",
    "           [ CONNECTION LIMIT [=] connlimit ] ]\n",
    "```"
   ]
  },
  {
   "cell_type": "markdown",
   "metadata": {},
   "source": [
    "Por exemplo, para criar o nosso banco de dados **projeto_bd** eu executei:\n",
    "\n",
    "```sql\n",
    "CREATE DATABASE mac313 WITH ENCODING='UTF8' OWNER=cloves_admin;\n",
    "```\n",
    "\n",
    "Para se conectar ao banco de dados que acabamos de criar, digite:\n",
    "```\n",
    "\\connect mac313\n",
    "```\n",
    "\n",
    "Vamos criar um schema chamado testes:\n",
    "\n",
    "```CREATE SCHEMA projeto_bd;```"
   ]
  },
  {
   "cell_type": "markdown",
   "metadata": {},
   "source": [
    "# Sugestões\n",
    "\n",
    "Eu criei um Jupyter notebook que ensina como criar uma tabela em um banco usando as bibliotecas SQLAchemy e Pandas do Python que vocês podem ler [aqui](https://github.com/SCloves/SQLAlchemy/blob/master/SQLAlchemy.ipynb). Eu costumo usar o DBeaver para adiministrar meus bancos de dados, caso queiram conhecer essa ferramenta vocês podem assistir esse [vídeo](https://www.youtube.com/watch?v=uyE2IAclF6M) que fiz."
   ]
  }
 ],
 "metadata": {
  "anaconda-cloud": {},
  "kernelspec": {
   "display_name": "Python [conda root]",
   "language": "python",
   "name": "conda-root-py"
  },
  "language_info": {
   "codemirror_mode": {
    "name": "ipython",
    "version": 2
   },
   "file_extension": ".py",
   "mimetype": "text/x-python",
   "name": "python",
   "nbconvert_exporter": "python",
   "pygments_lexer": "ipython2",
   "version": "2.7.12"
  }
 },
 "nbformat": 4,
 "nbformat_minor": 2
}
