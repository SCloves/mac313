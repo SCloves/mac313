{
 "cells": [
  {
   "cell_type": "markdown",
   "metadata": {},
   "source": [
    "# Se conectando ao Banco de Dados\n",
    "\n",
    "Vamos tentar nos conectar ao banco **mac313** que criamos coforme o outro notebook."
   ]
  },
  {
   "cell_type": "code",
   "execution_count": 1,
   "metadata": {
    "collapsed": false
   },
   "outputs": [
    {
     "name": "stderr",
     "output_type": "stream",
     "text": [
      "Loading required package: DBI\n"
     ]
    }
   ],
   "source": [
    "# instale essa biblioteca antes \n",
    "# com o comando install.packages(\"RPostgreSQL\")\n",
    "library(RPostgreSQL)"
   ]
  },
  {
   "cell_type": "code",
   "execution_count": 2,
   "metadata": {
    "collapsed": true
   },
   "outputs": [],
   "source": [
    "# faça o loads do driver PostgreSQL\n",
    "drv <- dbDriver(\"PostgreSQL\")"
   ]
  },
  {
   "cell_type": "code",
   "execution_count": 3,
   "metadata": {
    "collapsed": true
   },
   "outputs": [],
   "source": [
    "# vou precisar usar minha \n",
    "# senha de acesso ao banco mac313\n",
    "# e não quero expor ela aqui por motivos de\n",
    "# segurança, então criei uma variável ambiente\n",
    "# no meu console do linux que se chamada PASSWORD\n",
    "# contendo minha senha e estou lendo ela aqui\n",
    "PASSWORD <- Sys.getenv(\"PASSWORD\")"
   ]
  },
  {
   "cell_type": "code",
   "execution_count": 4,
   "metadata": {
    "collapsed": false
   },
   "outputs": [],
   "source": [
    "# vamos estabelecer conexão com\n",
    "# nosso banco mac313 e essa conexão\n",
    "# atribuiremos para con\n",
    "con <- dbConnect(drv, dbname = \"mac313\",\n",
    "                 host = \"localhost\", port = 5432,\n",
    "                 user = \"cloves_admin\", password = PASSWORD)"
   ]
  },
  {
   "cell_type": "markdown",
   "metadata": {},
   "source": [
    "# Inserindo dados\n",
    "\n",
    "Beleza, conexão estabelecida, agora vamos criar uma tabela. Estes dias eu baixei os dados de conversa de um grupo que tenho no WhatsApp e gostaria de guarda-los em nosso banco. Os dados são esses:"
   ]
  },
  {
   "cell_type": "code",
   "execution_count": 5,
   "metadata": {
    "collapsed": false
   },
   "outputs": [],
   "source": [
    "df <- read.csv(\"/home/cloves/Documentos/Estatística/banco_de_dados/postgresql/whats.csv\",\n",
    "              sep=';', stringsAsFactors=F)"
   ]
  },
  {
   "cell_type": "code",
   "execution_count": 6,
   "metadata": {
    "collapsed": false
   },
   "outputs": [
    {
     "data": {
      "text/html": [
       "<table>\n",
       "<thead><tr><th scope=col>X</th><th scope=col>data</th><th scope=col>nome</th><th scope=col>texto</th></tr></thead>\n",
       "<tbody>\n",
       "\t<tr><td> 4                                          </td><td>2016-11-21 14:27:00                         </td><td>Evandro                                     </td><td> Cloves, acho que todo mundo já te conhece\n",
       "</td></tr>\n",
       "\t<tr><td> 5                                          </td><td>2016-11-21 14:27:00                         </td><td>Evandro                                     </td><td> Seja bem vindo\n",
       "                           </td></tr>\n",
       "\t<tr><td> 6                                          </td><td>2016-11-21 14:28:00                         </td><td>Camile                                      </td><td> Bem vindooo 🎉\n",
       "                            </td></tr>\n",
       "\t<tr><td> 7                                          </td><td>2016-11-21 15:10:00                         </td><td>Cloves Adriano                              </td><td> 😃\n",
       "                                        </td></tr>\n",
       "\t<tr><td> 8                                          </td><td>2016-11-21 15:10:00                         </td><td>Cloves Adriano                              </td><td> Valeu pessoal\n",
       "                            </td></tr>\n",
       "\t<tr><td>12                                          </td><td>2016-11-21 17:02:00                         </td><td>Raul Magno                                  </td><td> Sim\n",
       "                                      </td></tr>\n",
       "</tbody>\n",
       "</table>\n"
      ],
      "text/latex": [
       "\\begin{tabular}{r|llll}\n",
       " X & data & nome & texto\\\\\n",
       "\\hline\n",
       "\t  4                                           & 2016-11-21 14:27:00                          & Evandro                                      &  Cloves, acho que todo mundo já te conhece\n",
       "\\\\\n",
       "\t  5                                           & 2016-11-21 14:27:00                          & Evandro                                      &  Seja bem vindo\n",
       "                           \\\\\n",
       "\t  6                                           & 2016-11-21 14:28:00                          & Camile                                       &  Bem vindooo 🎉\n",
       "                            \\\\\n",
       "\t  7                                           & 2016-11-21 15:10:00                          & Cloves Adriano                               &  😃\n",
       "                                        \\\\\n",
       "\t  8                                           & 2016-11-21 15:10:00                          & Cloves Adriano                               &  Valeu pessoal\n",
       "                            \\\\\n",
       "\t 12                                           & 2016-11-21 17:02:00                          & Raul Magno                                   &  Sim\n",
       "                                      \\\\\n",
       "\\end{tabular}\n"
      ],
      "text/markdown": [
       "\n",
       "X | data | nome | texto | \n",
       "|---|---|---|---|---|---|\n",
       "|  4                                           | 2016-11-21 14:27:00                          | Evandro                                      |  Cloves, acho que todo mundo já te conhece\n",
       " | \n",
       "|  5                                           | 2016-11-21 14:27:00                          | Evandro                                      |  Seja bem vindo\n",
       "                            | \n",
       "|  6                                           | 2016-11-21 14:28:00                          | Camile                                       |  Bem vindooo 🎉\n",
       "                             | \n",
       "|  7                                           | 2016-11-21 15:10:00                          | Cloves Adriano                               |  😃\n",
       "                                         | \n",
       "|  8                                           | 2016-11-21 15:10:00                          | Cloves Adriano                               |  Valeu pessoal\n",
       "                             | \n",
       "| 12                                           | 2016-11-21 17:02:00                          | Raul Magno                                   |  Sim\n",
       "                                       | \n",
       "\n",
       "\n"
      ],
      "text/plain": [
       "  X  data                nome          \n",
       "1  4 2016-11-21 14:27:00 Evandro       \n",
       "2  5 2016-11-21 14:27:00 Evandro       \n",
       "3  6 2016-11-21 14:28:00 Camile        \n",
       "4  7 2016-11-21 15:10:00 Cloves Adriano\n",
       "5  8 2016-11-21 15:10:00 Cloves Adriano\n",
       "6 12 2016-11-21 17:02:00 Raul Magno    \n",
       "  texto                                       \n",
       "1  Cloves, acho que todo mundo já te conhece\\n\n",
       "2  Seja bem vindo\\n                           \n",
       "3  Bem vindooo 🎉\\n                            \n",
       "4  😃\\n                                        \n",
       "5  Valeu pessoal\\n                            \n",
       "6  Sim\\n                                      "
      ]
     },
     "metadata": {},
     "output_type": "display_data"
    }
   ],
   "source": [
    "head(df)"
   ]
  },
  {
   "cell_type": "code",
   "execution_count": 7,
   "metadata": {
    "collapsed": false
   },
   "outputs": [
    {
     "data": {
      "text/html": [
       "TRUE"
      ],
      "text/latex": [
       "TRUE"
      ],
      "text/markdown": [
       "TRUE"
      ],
      "text/plain": [
       "[1] TRUE"
      ]
     },
     "metadata": {},
     "output_type": "display_data"
    }
   ],
   "source": [
    "# cria uma tabela com a cara do df \n",
    "# lá no nosso banco PostgreSQL, \n",
    "# com o nome de \"conversa_whats\" \n",
    "# no schema public\n",
    "dbWriteTable(con, name = \"conversa_whats\", \n",
    "             value = df, append = TRUE, row.names = FALSE)"
   ]
  },
  {
   "cell_type": "markdown",
   "metadata": {},
   "source": [
    "# Consultando nosso banco"
   ]
  },
  {
   "cell_type": "code",
   "execution_count": 8,
   "metadata": {
    "collapsed": true
   },
   "outputs": [],
   "source": [
    "resultado = dbGetQuery(con, \"SELECT * FROM public.conversa_whats \n",
    "                             WHERE nome = 'Cloves Adriano' limit 10;\")"
   ]
  },
  {
   "cell_type": "code",
   "execution_count": 9,
   "metadata": {
    "collapsed": false
   },
   "outputs": [
    {
     "data": {
      "text/html": [
       "<table>\n",
       "<thead><tr><th scope=col>X</th><th scope=col>data</th><th scope=col>nome</th><th scope=col>texto</th></tr></thead>\n",
       "<tbody>\n",
       "\t<tr><td>  7                                                                      </td><td>2016-11-21 15:10:00                                                      </td><td>Cloves Adriano                                                           </td><td> 😃\n",
       "                                                                     </td></tr>\n",
       "\t<tr><td>  8                                                                      </td><td>2016-11-21 15:10:00                                                      </td><td>Cloves Adriano                                                           </td><td> Valeu pessoal\n",
       "                                                         </td></tr>\n",
       "\t<tr><td> 44                                                                      </td><td>2016-11-23 09:15:00                                                      </td><td>Cloves Adriano                                                           </td><td> 👍🏻\n",
       "                                                                    </td></tr>\n",
       "\t<tr><td>256                                                                      </td><td>2016-12-06 18:30:00                                                      </td><td>Cloves Adriano                                                           </td><td> Boa\n",
       "                                                                   </td></tr>\n",
       "\t<tr><td>300                                                                      </td><td>2016-12-08 12:08:00                                                      </td><td>Cloves Adriano                                                           </td><td> Seja muito bem vindo André\n",
       "                                            </td></tr>\n",
       "\t<tr><td>301                                                                      </td><td>2016-12-08 12:08:00                                                      </td><td>Cloves Adriano                                                           </td><td> 👏🏻👏🏻👏🏻👏🏻✌🏻✌🏻✌🏻\n",
       "                                                        </td></tr>\n",
       "\t<tr><td>394                                                                      </td><td>2016-12-11 21:28:00                                                      </td><td>Cloves Adriano                                                           </td><td> Blz\n",
       "                                                                   </td></tr>\n",
       "\t<tr><td>399                                                                      </td><td>2016-12-12 11:53:00                                                      </td><td>Cloves Adriano                                                           </td><td> Pessoal, estou saindo da usp agora, daqui a pouco estarei no viva real\n",
       "</td></tr>\n",
       "\t<tr><td>408                                                                      </td><td>2016-12-12 15:04:00                                                      </td><td>Cloves Adriano                                                           </td><td> 👏🏻👏🏻👏🏻👏🏻👏🏻\n",
       "                                                            </td></tr>\n",
       "\t<tr><td>420                                                                      </td><td>2016-12-13 11:25:00                                                      </td><td>Cloves Adriano                                                           </td><td> Bom dia pessoal\n",
       "                                                       </td></tr>\n",
       "</tbody>\n",
       "</table>\n"
      ],
      "text/latex": [
       "\\begin{tabular}{r|llll}\n",
       " X & data & nome & texto\\\\\n",
       "\\hline\n",
       "\t   7                                                                       & 2016-11-21 15:10:00                                                       & Cloves Adriano                                                            &  😃\n",
       "                                                                     \\\\\n",
       "\t   8                                                                       & 2016-11-21 15:10:00                                                       & Cloves Adriano                                                            &  Valeu pessoal\n",
       "                                                         \\\\\n",
       "\t  44                                                                       & 2016-11-23 09:15:00                                                       & Cloves Adriano                                                            &  👍🏻\n",
       "                                                                    \\\\\n",
       "\t 256                                                                       & 2016-12-06 18:30:00                                                       & Cloves Adriano                                                            &  Boa\n",
       "                                                                   \\\\\n",
       "\t 300                                                                       & 2016-12-08 12:08:00                                                       & Cloves Adriano                                                            &  Seja muito bem vindo André\n",
       "                                            \\\\\n",
       "\t 301                                                                       & 2016-12-08 12:08:00                                                       & Cloves Adriano                                                            &  👏🏻👏🏻👏🏻👏🏻✌🏻✌🏻✌🏻\n",
       "                                                        \\\\\n",
       "\t 394                                                                       & 2016-12-11 21:28:00                                                       & Cloves Adriano                                                            &  Blz\n",
       "                                                                   \\\\\n",
       "\t 399                                                                       & 2016-12-12 11:53:00                                                       & Cloves Adriano                                                            &  Pessoal, estou saindo da usp agora, daqui a pouco estarei no viva real\n",
       "\\\\\n",
       "\t 408                                                                       & 2016-12-12 15:04:00                                                       & Cloves Adriano                                                            &  👏🏻👏🏻👏🏻👏🏻👏🏻\n",
       "                                                            \\\\\n",
       "\t 420                                                                       & 2016-12-13 11:25:00                                                       & Cloves Adriano                                                            &  Bom dia pessoal\n",
       "                                                       \\\\\n",
       "\\end{tabular}\n"
      ],
      "text/markdown": [
       "\n",
       "X | data | nome | texto | \n",
       "|---|---|---|---|---|---|---|---|---|---|\n",
       "|   7                                                                       | 2016-11-21 15:10:00                                                       | Cloves Adriano                                                            |  😃\n",
       "                                                                      | \n",
       "|   8                                                                       | 2016-11-21 15:10:00                                                       | Cloves Adriano                                                            |  Valeu pessoal\n",
       "                                                          | \n",
       "|  44                                                                       | 2016-11-23 09:15:00                                                       | Cloves Adriano                                                            |  👍🏻\n",
       "                                                                     | \n",
       "| 256                                                                       | 2016-12-06 18:30:00                                                       | Cloves Adriano                                                            |  Boa\n",
       "                                                                    | \n",
       "| 300                                                                       | 2016-12-08 12:08:00                                                       | Cloves Adriano                                                            |  Seja muito bem vindo André\n",
       "                                             | \n",
       "| 301                                                                       | 2016-12-08 12:08:00                                                       | Cloves Adriano                                                            |  👏🏻👏🏻👏🏻👏🏻✌🏻✌🏻✌🏻\n",
       "                                                         | \n",
       "| 394                                                                       | 2016-12-11 21:28:00                                                       | Cloves Adriano                                                            |  Blz\n",
       "                                                                    | \n",
       "| 399                                                                       | 2016-12-12 11:53:00                                                       | Cloves Adriano                                                            |  Pessoal, estou saindo da usp agora, daqui a pouco estarei no viva real\n",
       " | \n",
       "| 408                                                                       | 2016-12-12 15:04:00                                                       | Cloves Adriano                                                            |  👏🏻👏🏻👏🏻👏🏻👏🏻\n",
       "                                                             | \n",
       "| 420                                                                       | 2016-12-13 11:25:00                                                       | Cloves Adriano                                                            |  Bom dia pessoal\n",
       "                                                        | \n",
       "\n",
       "\n"
      ],
      "text/plain": [
       "   X   data                nome          \n",
       "1    7 2016-11-21 15:10:00 Cloves Adriano\n",
       "2    8 2016-11-21 15:10:00 Cloves Adriano\n",
       "3   44 2016-11-23 09:15:00 Cloves Adriano\n",
       "4  256 2016-12-06 18:30:00 Cloves Adriano\n",
       "5  300 2016-12-08 12:08:00 Cloves Adriano\n",
       "6  301 2016-12-08 12:08:00 Cloves Adriano\n",
       "7  394 2016-12-11 21:28:00 Cloves Adriano\n",
       "8  399 2016-12-12 11:53:00 Cloves Adriano\n",
       "9  408 2016-12-12 15:04:00 Cloves Adriano\n",
       "10 420 2016-12-13 11:25:00 Cloves Adriano\n",
       "   texto                                                                    \n",
       "1   😃\\n                                                                     \n",
       "2   Valeu pessoal\\n                                                         \n",
       "3   👍🏻\\n                                                                    \n",
       "4   Boa\\n                                                                   \n",
       "5   Seja muito bem vindo André\\n                                            \n",
       "6   👏🏻👏🏻👏🏻👏🏻✌🏻✌🏻✌🏻\\n                                                        \n",
       "7   Blz\\n                                                                   \n",
       "8   Pessoal, estou saindo da usp agora, daqui a pouco estarei no viva real\\n\n",
       "9   👏🏻👏🏻👏🏻👏🏻👏🏻\\n                                                            \n",
       "10  Bom dia pessoal\\n                                                       "
      ]
     },
     "metadata": {},
     "output_type": "display_data"
    }
   ],
   "source": [
    "resultado"
   ]
  }
 ],
 "metadata": {
  "anaconda-cloud": {},
  "kernelspec": {
   "display_name": "R 3.3",
   "language": "R",
   "name": "ir33"
  },
  "language_info": {
   "codemirror_mode": "r",
   "file_extension": ".r",
   "mimetype": "text/x-r-source",
   "name": "R",
   "pygments_lexer": "r",
   "version": "3.4.1"
  }
 },
 "nbformat": 4,
 "nbformat_minor": 2
}
